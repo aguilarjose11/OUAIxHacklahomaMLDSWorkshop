{
 "cells": [
  {
   "cell_type": "markdown",
   "id": "ed7c4755",
   "metadata": {},
   "source": [
    "# Medical Cost Dataset\n",
    "This Jupyter notebook contains the code used during OUAIxHacklahoma workshop for Fall 2021 (December 1st, 2021). Credits given to _miri choi_ from Kaggle for collecting and organizing the provided [\"Medical Cost Dataset\"](https://www.kaggle.com/mirichoi0218/insurance).\n",
    "\n",
    "Objectives\n",
    "--------------\n",
    "\n",
    "This jupyter notebook implements a solution to best categorize charges incurred to a person for insurance. This task is exclusively of regression, and the insurance cost is in dollars."
   ]
  },
  {
   "cell_type": "code",
   "execution_count": 1,
   "id": "7c8b6d1c",
   "metadata": {},
   "outputs": [],
   "source": [
    "import numpy as np\n",
    "import pandas as pd"
   ]
  },
  {
   "cell_type": "markdown",
   "id": "c9ae3d1b",
   "metadata": {},
   "source": [
    "Data Obtention\n",
    "============\n",
    "\n",
    "The Medical Cost dataset is provided in the datasets folder. We use Pandas's `read_csv` function. More formats are supported; read more in pandas [documentation](https://pandas.pydata.org/docs/reference/io.html)."
   ]
  },
  {
   "cell_type": "code",
   "execution_count": 2,
   "id": "8b648cfc",
   "metadata": {},
   "outputs": [],
   "source": [
    "insurance = pd.read_csv('datasets/insurance.csv')"
   ]
  },
  {
   "cell_type": "markdown",
   "id": "01b67f0f",
   "metadata": {},
   "source": [
    "Data Discovery\n",
    "============\n",
    "\n",
    "__It is important for us to gain an understanding of our data before performing any kind of learning or analysis.__ It is important to note that by \"Discovery\" we mean understanding what attributes and data types the dataset includes. This also includes identifying usefull and useless data attributes (such as dates or indexes). At this stage we want to focus in geting a grasp on what needs to be done next to achieve our goals."
   ]
  },
  {
   "cell_type": "markdown",
   "id": "c8ef689c",
   "metadata": {},
   "source": [
    "### Look at the dataset's attributes."
   ]
  },
  {
   "cell_type": "code",
   "execution_count": 3,
   "id": "ca6b845f",
   "metadata": {},
   "outputs": [
    {
     "data": {
      "text/plain": [
       "Index(['age', 'sex', 'bmi', 'children', 'smoker', 'region', 'charges'], dtype='object')"
      ]
     },
     "execution_count": 3,
     "metadata": {},
     "output_type": "execute_result"
    }
   ],
   "source": [
    "insurance.columns"
   ]
  },
  {
   "cell_type": "markdown",
   "id": "c7766497",
   "metadata": {},
   "source": [
    "### Look at the 7 first and last entries."
   ]
  },
  {
   "cell_type": "code",
   "execution_count": 4,
   "id": "7dcb4fbf",
   "metadata": {},
   "outputs": [
    {
     "data": {
      "text/html": [
       "<div>\n",
       "<style scoped>\n",
       "    .dataframe tbody tr th:only-of-type {\n",
       "        vertical-align: middle;\n",
       "    }\n",
       "\n",
       "    .dataframe tbody tr th {\n",
       "        vertical-align: top;\n",
       "    }\n",
       "\n",
       "    .dataframe thead th {\n",
       "        text-align: right;\n",
       "    }\n",
       "</style>\n",
       "<table border=\"1\" class=\"dataframe\">\n",
       "  <thead>\n",
       "    <tr style=\"text-align: right;\">\n",
       "      <th></th>\n",
       "      <th>age</th>\n",
       "      <th>sex</th>\n",
       "      <th>bmi</th>\n",
       "      <th>children</th>\n",
       "      <th>smoker</th>\n",
       "      <th>region</th>\n",
       "      <th>charges</th>\n",
       "    </tr>\n",
       "  </thead>\n",
       "  <tbody>\n",
       "    <tr>\n",
       "      <th>0</th>\n",
       "      <td>19</td>\n",
       "      <td>female</td>\n",
       "      <td>27.900</td>\n",
       "      <td>0</td>\n",
       "      <td>yes</td>\n",
       "      <td>southwest</td>\n",
       "      <td>16884.92400</td>\n",
       "    </tr>\n",
       "    <tr>\n",
       "      <th>1</th>\n",
       "      <td>18</td>\n",
       "      <td>male</td>\n",
       "      <td>33.770</td>\n",
       "      <td>1</td>\n",
       "      <td>no</td>\n",
       "      <td>southeast</td>\n",
       "      <td>1725.55230</td>\n",
       "    </tr>\n",
       "    <tr>\n",
       "      <th>2</th>\n",
       "      <td>28</td>\n",
       "      <td>male</td>\n",
       "      <td>33.000</td>\n",
       "      <td>3</td>\n",
       "      <td>no</td>\n",
       "      <td>southeast</td>\n",
       "      <td>4449.46200</td>\n",
       "    </tr>\n",
       "    <tr>\n",
       "      <th>3</th>\n",
       "      <td>33</td>\n",
       "      <td>male</td>\n",
       "      <td>22.705</td>\n",
       "      <td>0</td>\n",
       "      <td>no</td>\n",
       "      <td>northwest</td>\n",
       "      <td>21984.47061</td>\n",
       "    </tr>\n",
       "    <tr>\n",
       "      <th>4</th>\n",
       "      <td>32</td>\n",
       "      <td>male</td>\n",
       "      <td>28.880</td>\n",
       "      <td>0</td>\n",
       "      <td>no</td>\n",
       "      <td>northwest</td>\n",
       "      <td>3866.85520</td>\n",
       "    </tr>\n",
       "    <tr>\n",
       "      <th>5</th>\n",
       "      <td>31</td>\n",
       "      <td>female</td>\n",
       "      <td>25.740</td>\n",
       "      <td>0</td>\n",
       "      <td>no</td>\n",
       "      <td>southeast</td>\n",
       "      <td>3756.62160</td>\n",
       "    </tr>\n",
       "    <tr>\n",
       "      <th>6</th>\n",
       "      <td>46</td>\n",
       "      <td>female</td>\n",
       "      <td>33.440</td>\n",
       "      <td>1</td>\n",
       "      <td>no</td>\n",
       "      <td>southeast</td>\n",
       "      <td>8240.58960</td>\n",
       "    </tr>\n",
       "  </tbody>\n",
       "</table>\n",
       "</div>"
      ],
      "text/plain": [
       "   age     sex     bmi  children smoker     region      charges\n",
       "0   19  female  27.900         0    yes  southwest  16884.92400\n",
       "1   18    male  33.770         1     no  southeast   1725.55230\n",
       "2   28    male  33.000         3     no  southeast   4449.46200\n",
       "3   33    male  22.705         0     no  northwest  21984.47061\n",
       "4   32    male  28.880         0     no  northwest   3866.85520\n",
       "5   31  female  25.740         0     no  southeast   3756.62160\n",
       "6   46  female  33.440         1     no  southeast   8240.58960"
      ]
     },
     "execution_count": 4,
     "metadata": {},
     "output_type": "execute_result"
    }
   ],
   "source": [
    "insurance.head(7)"
   ]
  },
  {
   "cell_type": "code",
   "execution_count": 5,
   "id": "0647f9c4",
   "metadata": {},
   "outputs": [
    {
     "data": {
      "text/html": [
       "<div>\n",
       "<style scoped>\n",
       "    .dataframe tbody tr th:only-of-type {\n",
       "        vertical-align: middle;\n",
       "    }\n",
       "\n",
       "    .dataframe tbody tr th {\n",
       "        vertical-align: top;\n",
       "    }\n",
       "\n",
       "    .dataframe thead th {\n",
       "        text-align: right;\n",
       "    }\n",
       "</style>\n",
       "<table border=\"1\" class=\"dataframe\">\n",
       "  <thead>\n",
       "    <tr style=\"text-align: right;\">\n",
       "      <th></th>\n",
       "      <th>age</th>\n",
       "      <th>sex</th>\n",
       "      <th>bmi</th>\n",
       "      <th>children</th>\n",
       "      <th>smoker</th>\n",
       "      <th>region</th>\n",
       "      <th>charges</th>\n",
       "    </tr>\n",
       "  </thead>\n",
       "  <tbody>\n",
       "    <tr>\n",
       "      <th>1331</th>\n",
       "      <td>23</td>\n",
       "      <td>female</td>\n",
       "      <td>33.40</td>\n",
       "      <td>0</td>\n",
       "      <td>no</td>\n",
       "      <td>southwest</td>\n",
       "      <td>10795.93733</td>\n",
       "    </tr>\n",
       "    <tr>\n",
       "      <th>1332</th>\n",
       "      <td>52</td>\n",
       "      <td>female</td>\n",
       "      <td>44.70</td>\n",
       "      <td>3</td>\n",
       "      <td>no</td>\n",
       "      <td>southwest</td>\n",
       "      <td>11411.68500</td>\n",
       "    </tr>\n",
       "    <tr>\n",
       "      <th>1333</th>\n",
       "      <td>50</td>\n",
       "      <td>male</td>\n",
       "      <td>30.97</td>\n",
       "      <td>3</td>\n",
       "      <td>no</td>\n",
       "      <td>northwest</td>\n",
       "      <td>10600.54830</td>\n",
       "    </tr>\n",
       "    <tr>\n",
       "      <th>1334</th>\n",
       "      <td>18</td>\n",
       "      <td>female</td>\n",
       "      <td>31.92</td>\n",
       "      <td>0</td>\n",
       "      <td>no</td>\n",
       "      <td>northeast</td>\n",
       "      <td>2205.98080</td>\n",
       "    </tr>\n",
       "    <tr>\n",
       "      <th>1335</th>\n",
       "      <td>18</td>\n",
       "      <td>female</td>\n",
       "      <td>36.85</td>\n",
       "      <td>0</td>\n",
       "      <td>no</td>\n",
       "      <td>southeast</td>\n",
       "      <td>1629.83350</td>\n",
       "    </tr>\n",
       "    <tr>\n",
       "      <th>1336</th>\n",
       "      <td>21</td>\n",
       "      <td>female</td>\n",
       "      <td>25.80</td>\n",
       "      <td>0</td>\n",
       "      <td>no</td>\n",
       "      <td>southwest</td>\n",
       "      <td>2007.94500</td>\n",
       "    </tr>\n",
       "    <tr>\n",
       "      <th>1337</th>\n",
       "      <td>61</td>\n",
       "      <td>female</td>\n",
       "      <td>29.07</td>\n",
       "      <td>0</td>\n",
       "      <td>yes</td>\n",
       "      <td>northwest</td>\n",
       "      <td>29141.36030</td>\n",
       "    </tr>\n",
       "  </tbody>\n",
       "</table>\n",
       "</div>"
      ],
      "text/plain": [
       "      age     sex    bmi  children smoker     region      charges\n",
       "1331   23  female  33.40         0     no  southwest  10795.93733\n",
       "1332   52  female  44.70         3     no  southwest  11411.68500\n",
       "1333   50    male  30.97         3     no  northwest  10600.54830\n",
       "1334   18  female  31.92         0     no  northeast   2205.98080\n",
       "1335   18  female  36.85         0     no  southeast   1629.83350\n",
       "1336   21  female  25.80         0     no  southwest   2007.94500\n",
       "1337   61  female  29.07         0    yes  northwest  29141.36030"
      ]
     },
     "execution_count": 5,
     "metadata": {},
     "output_type": "execute_result"
    }
   ],
   "source": [
    "insurance.tail(7)"
   ]
  },
  {
   "cell_type": "markdown",
   "id": "366f8c7f",
   "metadata": {},
   "source": [
    "### See what kind of data the dataset contains.\n",
    "Note that `sex`, `smoker`, and `region` attributes are shown as `object` Dtype. When data is first imported into sklearn, strings are represented as object types. Oftentimes, this data is categorical, and because we have imported a CSV data file we can rest assured that the columns will be categorical. We can further prove this by taking a look at the values that exist within the suspected categorical attributes."
   ]
  },
  {
   "cell_type": "code",
   "execution_count": 6,
   "id": "9396c346",
   "metadata": {},
   "outputs": [
    {
     "name": "stdout",
     "output_type": "stream",
     "text": [
      "<class 'pandas.core.frame.DataFrame'>\n",
      "RangeIndex: 1338 entries, 0 to 1337\n",
      "Data columns (total 7 columns):\n",
      " #   Column    Non-Null Count  Dtype  \n",
      "---  ------    --------------  -----  \n",
      " 0   age       1338 non-null   int64  \n",
      " 1   sex       1338 non-null   object \n",
      " 2   bmi       1338 non-null   float64\n",
      " 3   children  1338 non-null   int64  \n",
      " 4   smoker    1338 non-null   object \n",
      " 5   region    1338 non-null   object \n",
      " 6   charges   1338 non-null   float64\n",
      "dtypes: float64(2), int64(2), object(3)\n",
      "memory usage: 73.3+ KB\n"
     ]
    }
   ],
   "source": [
    "insurance.info()"
   ]
  },
  {
   "cell_type": "code",
   "execution_count": 7,
   "id": "ee5c263c",
   "metadata": {
    "scrolled": true
   },
   "outputs": [
    {
     "data": {
      "text/plain": [
       "southeast    364\n",
       "southwest    325\n",
       "northwest    325\n",
       "northeast    324\n",
       "Name: region, dtype: int64"
      ]
     },
     "execution_count": 7,
     "metadata": {},
     "output_type": "execute_result"
    }
   ],
   "source": [
    "insurance['region'].value_counts()"
   ]
  },
  {
   "cell_type": "markdown",
   "id": "7fe718d8",
   "metadata": {},
   "source": [
    "## Dataset Statistics\n",
    "\n",
    "The `describe()` function provided by Pandas allows us to get a glimpse into the statistical relationships going on in the dataset. This information can be useful to gain a better understanding of the dataset itself."
   ]
  },
  {
   "cell_type": "code",
   "execution_count": 8,
   "id": "1c73028f",
   "metadata": {},
   "outputs": [
    {
     "data": {
      "text/html": [
       "<div>\n",
       "<style scoped>\n",
       "    .dataframe tbody tr th:only-of-type {\n",
       "        vertical-align: middle;\n",
       "    }\n",
       "\n",
       "    .dataframe tbody tr th {\n",
       "        vertical-align: top;\n",
       "    }\n",
       "\n",
       "    .dataframe thead th {\n",
       "        text-align: right;\n",
       "    }\n",
       "</style>\n",
       "<table border=\"1\" class=\"dataframe\">\n",
       "  <thead>\n",
       "    <tr style=\"text-align: right;\">\n",
       "      <th></th>\n",
       "      <th>age</th>\n",
       "      <th>bmi</th>\n",
       "      <th>children</th>\n",
       "      <th>charges</th>\n",
       "    </tr>\n",
       "  </thead>\n",
       "  <tbody>\n",
       "    <tr>\n",
       "      <th>count</th>\n",
       "      <td>1338.000000</td>\n",
       "      <td>1338.000000</td>\n",
       "      <td>1338.000000</td>\n",
       "      <td>1338.000000</td>\n",
       "    </tr>\n",
       "    <tr>\n",
       "      <th>mean</th>\n",
       "      <td>39.207025</td>\n",
       "      <td>30.663397</td>\n",
       "      <td>1.094918</td>\n",
       "      <td>13270.422265</td>\n",
       "    </tr>\n",
       "    <tr>\n",
       "      <th>std</th>\n",
       "      <td>14.049960</td>\n",
       "      <td>6.098187</td>\n",
       "      <td>1.205493</td>\n",
       "      <td>12110.011237</td>\n",
       "    </tr>\n",
       "    <tr>\n",
       "      <th>min</th>\n",
       "      <td>18.000000</td>\n",
       "      <td>15.960000</td>\n",
       "      <td>0.000000</td>\n",
       "      <td>1121.873900</td>\n",
       "    </tr>\n",
       "    <tr>\n",
       "      <th>25%</th>\n",
       "      <td>27.000000</td>\n",
       "      <td>26.296250</td>\n",
       "      <td>0.000000</td>\n",
       "      <td>4740.287150</td>\n",
       "    </tr>\n",
       "    <tr>\n",
       "      <th>50%</th>\n",
       "      <td>39.000000</td>\n",
       "      <td>30.400000</td>\n",
       "      <td>1.000000</td>\n",
       "      <td>9382.033000</td>\n",
       "    </tr>\n",
       "    <tr>\n",
       "      <th>75%</th>\n",
       "      <td>51.000000</td>\n",
       "      <td>34.693750</td>\n",
       "      <td>2.000000</td>\n",
       "      <td>16639.912515</td>\n",
       "    </tr>\n",
       "    <tr>\n",
       "      <th>max</th>\n",
       "      <td>64.000000</td>\n",
       "      <td>53.130000</td>\n",
       "      <td>5.000000</td>\n",
       "      <td>63770.428010</td>\n",
       "    </tr>\n",
       "  </tbody>\n",
       "</table>\n",
       "</div>"
      ],
      "text/plain": [
       "               age          bmi     children       charges\n",
       "count  1338.000000  1338.000000  1338.000000   1338.000000\n",
       "mean     39.207025    30.663397     1.094918  13270.422265\n",
       "std      14.049960     6.098187     1.205493  12110.011237\n",
       "min      18.000000    15.960000     0.000000   1121.873900\n",
       "25%      27.000000    26.296250     0.000000   4740.287150\n",
       "50%      39.000000    30.400000     1.000000   9382.033000\n",
       "75%      51.000000    34.693750     2.000000  16639.912515\n",
       "max      64.000000    53.130000     5.000000  63770.428010"
      ]
     },
     "execution_count": 8,
     "metadata": {},
     "output_type": "execute_result"
    }
   ],
   "source": [
    "insurance.describe()"
   ]
  },
  {
   "cell_type": "markdown",
   "id": "bb8c8438",
   "metadata": {},
   "source": [
    "Note that only __4__ attributes are displayed. This is due to the fact that the describe function only looks at numerical data. Other types of data are ignored."
   ]
  },
  {
   "cell_type": "markdown",
   "id": "922a29c7",
   "metadata": {},
   "source": [
    "#### Plotting the dataset\n",
    "\n",
    "We can further gain knowledge by ploting the dataset. Pay close attention to the distribution! The `hist()` function allows us to plot a historgram. These are very useful when dealing with data that may have different statistical distributions. The `bins` parameter allows us to choose how many \"rectangles\" to include in a single histogram. The `figsize` allows us to determine the size of the histogram (y, x)."
   ]
  },
  {
   "cell_type": "code",
   "execution_count": 9,
   "id": "12667bbd",
   "metadata": {},
   "outputs": [
    {
     "data": {
      "text/plain": [
       "array([[<AxesSubplot:title={'center':'age'}>,\n",
       "        <AxesSubplot:title={'center':'bmi'}>],\n",
       "       [<AxesSubplot:title={'center':'children'}>,\n",
       "        <AxesSubplot:title={'center':'charges'}>]], dtype=object)"
      ]
     },
     "execution_count": 9,
     "metadata": {},
     "output_type": "execute_result"
    },
    {
     "data": {
      "image/png": "[encoded data removed]",
      "text/plain": [
       "<Figure size 1440x1080 with 4 Axes>"
      ]
     },
     "metadata": {
      "needs_background": "light"
     },
     "output_type": "display_data"
    }
   ],
   "source": [
    "insurance.hist(bins=50, figsize=(20, 15))"
   ]
  },
  {
   "cell_type": "markdown",
   "id": "a677dea0",
   "metadata": {},
   "source": [
    "# Dataset Preparation\n",
    "\n",
    "Once we have gained a better understanding of the kind of data that we are dealing with, it is important to avoid making assumptions on the dataset. This is because certain attributes may not influence the final prediction as we may think. This is crucial when seeking the best machine learning model.\n",
    "\n",
    "When working with machine learning, it is very important for us to prepare the dataset for training. This is accomplished by first separating the data into two parts: _Training_ and _Testing_. Doing this will allow us to maintain a neutral position on the dataset and avoid outside bias from interfering with the learning process. Additionally, we will be using the testing dataset after we perform learning in order for us to test how well our model does with unseen data. At the end of the day, we care about a model that can do well with unseen data rather than just the data that it has learned already.\n",
    "\n",
    "`StratifiedShuffleSplit` is a commonly-used splitting technique to separate the training from the testing sub-datasets. It uses a categorical attribute to keep the best representation among the datasets. In data science, the __80/20__ splitting rule is the most used splitting distribution. We keep 80% for our training data and 20% for our testing data.\n",
    "\n",
    "### How do we choose which attribute to split on?\n",
    "\n",
    "Expert advise is best when deciding what attribute to use. In general, it is a good idea to split your dataset using as basis an attribute that may be very important for machine learning; thus, it is benefitial to maintain the best representation of the data possible."
   ]
  },
  {
   "cell_type": "code",
   "execution_count": 10,
   "id": "21bd5e92",
   "metadata": {},
   "outputs": [],
   "source": [
    "from sklearn.model_selection import StratifiedShuffleSplit\n",
    "\n",
    "attrib = 'age'\n",
    "split = StratifiedShuffleSplit(n_splits=1, test_size=0.2, random_state=42)\n",
    "for train_i, test_i in split.split(insurance, insurance[attrib]):\n",
    "    strat_train_set = insurance.loc[train_i]\n",
    "    strat_test_set = insurance.loc[test_i]"
   ]
  },
  {
   "cell_type": "code",
   "execution_count": 11,
   "id": "3555d3ef",
   "metadata": {},
   "outputs": [
    {
     "data": {
      "text/html": [
       "<div>\n",
       "<style scoped>\n",
       "    .dataframe tbody tr th:only-of-type {\n",
       "        vertical-align: middle;\n",
       "    }\n",
       "\n",
       "    .dataframe tbody tr th {\n",
       "        vertical-align: top;\n",
       "    }\n",
       "\n",
       "    .dataframe thead th {\n",
       "        text-align: right;\n",
       "    }\n",
       "</style>\n",
       "<table border=\"1\" class=\"dataframe\">\n",
       "  <thead>\n",
       "    <tr style=\"text-align: right;\">\n",
       "      <th></th>\n",
       "      <th>age</th>\n",
       "      <th>sex</th>\n",
       "      <th>bmi</th>\n",
       "      <th>children</th>\n",
       "      <th>smoker</th>\n",
       "      <th>region</th>\n",
       "      <th>charges</th>\n",
       "    </tr>\n",
       "  </thead>\n",
       "  <tbody>\n",
       "    <tr>\n",
       "      <th>1218</th>\n",
       "      <td>46</td>\n",
       "      <td>female</td>\n",
       "      <td>34.600</td>\n",
       "      <td>1</td>\n",
       "      <td>yes</td>\n",
       "      <td>southwest</td>\n",
       "      <td>41661.60200</td>\n",
       "    </tr>\n",
       "    <tr>\n",
       "      <th>669</th>\n",
       "      <td>40</td>\n",
       "      <td>female</td>\n",
       "      <td>29.810</td>\n",
       "      <td>1</td>\n",
       "      <td>no</td>\n",
       "      <td>southeast</td>\n",
       "      <td>6500.23590</td>\n",
       "    </tr>\n",
       "    <tr>\n",
       "      <th>618</th>\n",
       "      <td>19</td>\n",
       "      <td>female</td>\n",
       "      <td>33.110</td>\n",
       "      <td>0</td>\n",
       "      <td>yes</td>\n",
       "      <td>southeast</td>\n",
       "      <td>34439.85590</td>\n",
       "    </tr>\n",
       "    <tr>\n",
       "      <th>58</th>\n",
       "      <td>53</td>\n",
       "      <td>female</td>\n",
       "      <td>22.880</td>\n",
       "      <td>1</td>\n",
       "      <td>yes</td>\n",
       "      <td>southeast</td>\n",
       "      <td>23244.79020</td>\n",
       "    </tr>\n",
       "    <tr>\n",
       "      <th>902</th>\n",
       "      <td>26</td>\n",
       "      <td>male</td>\n",
       "      <td>27.265</td>\n",
       "      <td>3</td>\n",
       "      <td>no</td>\n",
       "      <td>northeast</td>\n",
       "      <td>4661.28635</td>\n",
       "    </tr>\n",
       "  </tbody>\n",
       "</table>\n",
       "</div>"
      ],
      "text/plain": [
       "      age     sex     bmi  children smoker     region      charges\n",
       "1218   46  female  34.600         1    yes  southwest  41661.60200\n",
       "669    40  female  29.810         1     no  southeast   6500.23590\n",
       "618    19  female  33.110         0    yes  southeast  34439.85590\n",
       "58     53  female  22.880         1    yes  southeast  23244.79020\n",
       "902    26    male  27.265         3     no  northeast   4661.28635"
      ]
     },
     "execution_count": 11,
     "metadata": {},
     "output_type": "execute_result"
    }
   ],
   "source": [
    "strat_train_set.head()"
   ]
  },
  {
   "cell_type": "code",
   "execution_count": 12,
   "id": "7f1bcc3a",
   "metadata": {},
   "outputs": [
    {
     "data": {
      "text/html": [
       "<div>\n",
       "<style scoped>\n",
       "    .dataframe tbody tr th:only-of-type {\n",
       "        vertical-align: middle;\n",
       "    }\n",
       "\n",
       "    .dataframe tbody tr th {\n",
       "        vertical-align: top;\n",
       "    }\n",
       "\n",
       "    .dataframe thead th {\n",
       "        text-align: right;\n",
       "    }\n",
       "</style>\n",
       "<table border=\"1\" class=\"dataframe\">\n",
       "  <thead>\n",
       "    <tr style=\"text-align: right;\">\n",
       "      <th></th>\n",
       "      <th>age</th>\n",
       "      <th>sex</th>\n",
       "      <th>bmi</th>\n",
       "      <th>children</th>\n",
       "      <th>smoker</th>\n",
       "      <th>region</th>\n",
       "      <th>charges</th>\n",
       "    </tr>\n",
       "  </thead>\n",
       "  <tbody>\n",
       "    <tr>\n",
       "      <th>949</th>\n",
       "      <td>25</td>\n",
       "      <td>male</td>\n",
       "      <td>29.700</td>\n",
       "      <td>3</td>\n",
       "      <td>yes</td>\n",
       "      <td>southwest</td>\n",
       "      <td>19933.45800</td>\n",
       "    </tr>\n",
       "    <tr>\n",
       "      <th>606</th>\n",
       "      <td>27</td>\n",
       "      <td>female</td>\n",
       "      <td>25.175</td>\n",
       "      <td>0</td>\n",
       "      <td>no</td>\n",
       "      <td>northeast</td>\n",
       "      <td>3558.62025</td>\n",
       "    </tr>\n",
       "    <tr>\n",
       "      <th>830</th>\n",
       "      <td>63</td>\n",
       "      <td>male</td>\n",
       "      <td>33.100</td>\n",
       "      <td>0</td>\n",
       "      <td>no</td>\n",
       "      <td>southwest</td>\n",
       "      <td>13393.75600</td>\n",
       "    </tr>\n",
       "    <tr>\n",
       "      <th>1014</th>\n",
       "      <td>38</td>\n",
       "      <td>female</td>\n",
       "      <td>27.600</td>\n",
       "      <td>0</td>\n",
       "      <td>no</td>\n",
       "      <td>southwest</td>\n",
       "      <td>5383.53600</td>\n",
       "    </tr>\n",
       "    <tr>\n",
       "      <th>124</th>\n",
       "      <td>47</td>\n",
       "      <td>female</td>\n",
       "      <td>33.915</td>\n",
       "      <td>3</td>\n",
       "      <td>no</td>\n",
       "      <td>northwest</td>\n",
       "      <td>10115.00885</td>\n",
       "    </tr>\n",
       "  </tbody>\n",
       "</table>\n",
       "</div>"
      ],
      "text/plain": [
       "      age     sex     bmi  children smoker     region      charges\n",
       "949    25    male  29.700         3    yes  southwest  19933.45800\n",
       "606    27  female  25.175         0     no  northeast   3558.62025\n",
       "830    63    male  33.100         0     no  southwest  13393.75600\n",
       "1014   38  female  27.600         0     no  southwest   5383.53600\n",
       "124    47  female  33.915         3     no  northwest  10115.00885"
      ]
     },
     "execution_count": 12,
     "metadata": {},
     "output_type": "execute_result"
    }
   ],
   "source": [
    "strat_test_set.head()"
   ]
  },
  {
   "cell_type": "markdown",
   "id": "1362bea7",
   "metadata": {},
   "source": [
    "We can apreciate the dataset distribution"
   ]
  },
  {
   "cell_type": "code",
   "execution_count": 13,
   "id": "e19a46db",
   "metadata": {},
   "outputs": [
    {
     "data": {
      "text/plain": [
       "<AxesSubplot:>"
      ]
     },
     "execution_count": 13,
     "metadata": {},
     "output_type": "execute_result"
    },
    {
     "data": {
      "image/png": "[encoded data removed]",
      "text/plain": [
       "<Figure size 720x360 with 1 Axes>"
      ]
     },
     "metadata": {
      "needs_background": "light"
     },
     "output_type": "display_data"
    }
   ],
   "source": [
    "# Train dataset\n",
    "strat_train_set[attrib].value_counts().hist(bins=100, figsize=(10, 5))"
   ]
  },
  {
   "cell_type": "code",
   "execution_count": 14,
   "id": "73d86b2f",
   "metadata": {},
   "outputs": [
    {
     "data": {
      "text/plain": [
       "<AxesSubplot:>"
      ]
     },
     "execution_count": 14,
     "metadata": {},
     "output_type": "execute_result"
    },
    {
     "data": {
      "image/png": "[encoded data removed]",
      "text/plain": [
       "<Figure size 720x360 with 1 Axes>"
      ]
     },
     "metadata": {
      "needs_background": "light"
     },
     "output_type": "display_data"
    }
   ],
   "source": [
    "# Test dataset\n",
    "strat_test_set[attrib].value_counts().hist(bins=100, figsize=(10, 5))"
   ]
  },
  {
   "cell_type": "code",
   "execution_count": 15,
   "id": "fc9c2d99",
   "metadata": {},
   "outputs": [
    {
     "data": {
      "text/plain": [
       "<AxesSubplot:>"
      ]
     },
     "execution_count": 15,
     "metadata": {},
     "output_type": "execute_result"
    },
    {
     "data": {
      "image/png": "[encoded data removed]",
      "text/plain": [
       "<Figure size 720x360 with 1 Axes>"
      ]
     },
     "metadata": {
      "needs_background": "light"
     },
     "output_type": "display_data"
    }
   ],
   "source": [
    "# The distribution is kept if the graphs of the other datasets resemble this one.\n",
    "insurance[attrib].value_counts().hist(bins=100, figsize=(10, 5))"
   ]
  },
  {
   "cell_type": "markdown",
   "id": "efaae85c",
   "metadata": {},
   "source": [
    "From now on, __only use the training dataset__ to perform any further data analysis."
   ]
  },
  {
   "cell_type": "markdown",
   "id": "76d75451",
   "metadata": {},
   "source": [
    "## Correlations\n",
    "\n",
    "Given that in data science we are attempting to find correlations within the data that could give the machine learning model better insights, it is a good idea to check what attributes may be the most useful for this. Note that this will only work with numerical data, thus, we may not be able to use simple Pearson correlation on attributes that are categorical or `object` type."
   ]
  },
  {
   "cell_type": "code",
   "execution_count": 16,
   "id": "aeeb24ef",
   "metadata": {},
   "outputs": [
    {
     "data": {
      "text/plain": [
       "charges     1.000000\n",
       "age         0.274163\n",
       "bmi         0.209491\n",
       "children    0.069946\n",
       "Name: charges, dtype: float64"
      ]
     },
     "execution_count": 16,
     "metadata": {},
     "output_type": "execute_result"
    }
   ],
   "source": [
    "# Create a correlation matrix\n",
    "corr_matrix = strat_train_set.corr()\n",
    "corr_matrix['charges'].sort_values(ascending=False)"
   ]
  },
  {
   "cell_type": "markdown",
   "id": "f733d318",
   "metadata": {},
   "source": [
    "It seems to be that age is the best predictor of insurance cost. Note that this correlation value is very low. Since a significant number of attributes are `object` type it is worth the attempt to try and convert those attributes to a numerical encoding to check if there are better correlations. To do this, we can use sklearn's OrdinalEncoder to convert categorical strings into numerical form."
   ]
  },
  {
   "cell_type": "code",
   "execution_count": 17,
   "id": "f95cdfdd",
   "metadata": {},
   "outputs": [
    {
     "data": {
      "text/html": [
       "<div>\n",
       "<style scoped>\n",
       "    .dataframe tbody tr th:only-of-type {\n",
       "        vertical-align: middle;\n",
       "    }\n",
       "\n",
       "    .dataframe tbody tr th {\n",
       "        vertical-align: top;\n",
       "    }\n",
       "\n",
       "    .dataframe thead th {\n",
       "        text-align: right;\n",
       "    }\n",
       "</style>\n",
       "<table border=\"1\" class=\"dataframe\">\n",
       "  <thead>\n",
       "    <tr style=\"text-align: right;\">\n",
       "      <th></th>\n",
       "      <th>age</th>\n",
       "      <th>sex</th>\n",
       "      <th>bmi</th>\n",
       "      <th>children</th>\n",
       "      <th>smoker</th>\n",
       "      <th>region</th>\n",
       "      <th>charges</th>\n",
       "    </tr>\n",
       "  </thead>\n",
       "  <tbody>\n",
       "    <tr>\n",
       "      <th>count</th>\n",
       "      <td>1070.000000</td>\n",
       "      <td>1070.000000</td>\n",
       "      <td>1070.000000</td>\n",
       "      <td>1070.000000</td>\n",
       "      <td>1070.000000</td>\n",
       "      <td>1070.000000</td>\n",
       "      <td>1070.000000</td>\n",
       "    </tr>\n",
       "    <tr>\n",
       "      <th>mean</th>\n",
       "      <td>39.280374</td>\n",
       "      <td>0.515888</td>\n",
       "      <td>30.818196</td>\n",
       "      <td>1.081308</td>\n",
       "      <td>0.206542</td>\n",
       "      <td>1.516822</td>\n",
       "      <td>13375.571065</td>\n",
       "    </tr>\n",
       "    <tr>\n",
       "      <th>std</th>\n",
       "      <td>14.052351</td>\n",
       "      <td>0.499981</td>\n",
       "      <td>6.088495</td>\n",
       "      <td>1.181367</td>\n",
       "      <td>0.405013</td>\n",
       "      <td>1.099875</td>\n",
       "      <td>12245.142274</td>\n",
       "    </tr>\n",
       "    <tr>\n",
       "      <th>min</th>\n",
       "      <td>18.000000</td>\n",
       "      <td>0.000000</td>\n",
       "      <td>15.960000</td>\n",
       "      <td>0.000000</td>\n",
       "      <td>0.000000</td>\n",
       "      <td>0.000000</td>\n",
       "      <td>1121.873900</td>\n",
       "    </tr>\n",
       "    <tr>\n",
       "      <th>25%</th>\n",
       "      <td>27.000000</td>\n",
       "      <td>0.000000</td>\n",
       "      <td>26.410000</td>\n",
       "      <td>0.000000</td>\n",
       "      <td>0.000000</td>\n",
       "      <td>1.000000</td>\n",
       "      <td>4746.521225</td>\n",
       "    </tr>\n",
       "    <tr>\n",
       "      <th>50%</th>\n",
       "      <td>39.000000</td>\n",
       "      <td>1.000000</td>\n",
       "      <td>30.500000</td>\n",
       "      <td>1.000000</td>\n",
       "      <td>0.000000</td>\n",
       "      <td>2.000000</td>\n",
       "      <td>9382.033000</td>\n",
       "    </tr>\n",
       "    <tr>\n",
       "      <th>75%</th>\n",
       "      <td>51.000000</td>\n",
       "      <td>1.000000</td>\n",
       "      <td>34.800000</td>\n",
       "      <td>2.000000</td>\n",
       "      <td>0.000000</td>\n",
       "      <td>2.000000</td>\n",
       "      <td>16639.912515</td>\n",
       "    </tr>\n",
       "    <tr>\n",
       "      <th>max</th>\n",
       "      <td>64.000000</td>\n",
       "      <td>1.000000</td>\n",
       "      <td>53.130000</td>\n",
       "      <td>5.000000</td>\n",
       "      <td>1.000000</td>\n",
       "      <td>3.000000</td>\n",
       "      <td>63770.428010</td>\n",
       "    </tr>\n",
       "  </tbody>\n",
       "</table>\n",
       "</div>"
      ],
      "text/plain": [
       "               age          sex          bmi     children       smoker  \\\n",
       "count  1070.000000  1070.000000  1070.000000  1070.000000  1070.000000   \n",
       "mean     39.280374     0.515888    30.818196     1.081308     0.206542   \n",
       "std      14.052351     0.499981     6.088495     1.181367     0.405013   \n",
       "min      18.000000     0.000000    15.960000     0.000000     0.000000   \n",
       "25%      27.000000     0.000000    26.410000     0.000000     0.000000   \n",
       "50%      39.000000     1.000000    30.500000     1.000000     0.000000   \n",
       "75%      51.000000     1.000000    34.800000     2.000000     0.000000   \n",
       "max      64.000000     1.000000    53.130000     5.000000     1.000000   \n",
       "\n",
       "            region       charges  \n",
       "count  1070.000000   1070.000000  \n",
       "mean      1.516822  13375.571065  \n",
       "std       1.099875  12245.142274  \n",
       "min       0.000000   1121.873900  \n",
       "25%       1.000000   4746.521225  \n",
       "50%       2.000000   9382.033000  \n",
       "75%       2.000000  16639.912515  \n",
       "max       3.000000  63770.428010  "
      ]
     },
     "execution_count": 17,
     "metadata": {},
     "output_type": "execute_result"
    }
   ],
   "source": [
    "from sklearn.preprocessing import OrdinalEncoder\n",
    "\n",
    "cat_cols = ['sex', 'smoker', 'region']\n",
    "oe = OrdinalEncoder()\n",
    "strat_train_set[cat_cols] = oe.fit_transform(strat_train_set[cat_cols])\n",
    "\n",
    "strat_train_set.describe()"
   ]
  },
  {
   "cell_type": "code",
   "execution_count": 18,
   "id": "47b49daa",
   "metadata": {},
   "outputs": [
    {
     "data": {
      "text/plain": [
       "charges     1.000000\n",
       "smoker      0.800094\n",
       "age         0.274163\n",
       "bmi         0.209491\n",
       "children    0.069946\n",
       "sex         0.058434\n",
       "region     -0.022080\n",
       "Name: charges, dtype: float64"
      ]
     },
     "execution_count": 18,
     "metadata": {},
     "output_type": "execute_result"
    }
   ],
   "source": [
    "# Create a correlation matrix and check correlations again\n",
    "corr_matrix = strat_train_set.corr()\n",
    "corr_matrix['charges'].sort_values(ascending=False)"
   ]
  },
  {
   "cell_type": "markdown",
   "id": "18fa05b5",
   "metadata": {},
   "source": [
    "Note how being a smoker gives a positive correlation. This correlation is also much better than any other attribute."
   ]
  },
  {
   "cell_type": "markdown",
   "id": "1f093de3",
   "metadata": {},
   "source": [
    "### Scatter Matrix\n",
    "\n",
    "We can further visualize any correlations among the data attributes by using a correlation matrix. This can help us better observe the above correlations."
   ]
  },
  {
   "cell_type": "code",
   "execution_count": 19,
   "id": "4f881efa",
   "metadata": {},
   "outputs": [
    {
     "data": {
      "text/plain": [
       "Index(['age', 'sex', 'bmi', 'children', 'smoker', 'region', 'charges'], dtype='object')"
      ]
     },
     "execution_count": 19,
     "metadata": {},
     "output_type": "execute_result"
    }
   ],
   "source": [
    "insurance.columns"
   ]
  },
  {
   "cell_type": "code",
   "execution_count": 20,
   "id": "72181eeb",
   "metadata": {
    "scrolled": true
   },
   "outputs": [
    {
     "data": {
      "text/plain": [
       "array([[<AxesSubplot:xlabel='age', ylabel='age'>,\n",
       "        <AxesSubplot:xlabel='sex', ylabel='age'>,\n",
       "        <AxesSubplot:xlabel='bmi', ylabel='age'>,\n",
       "        <AxesSubplot:xlabel='children', ylabel='age'>,\n",
       "        <AxesSubplot:xlabel='smoker', ylabel='age'>,\n",
       "        <AxesSubplot:xlabel='region', ylabel='age'>,\n",
       "        <AxesSubplot:xlabel='charges', ylabel='age'>],\n",
       "       [<AxesSubplot:xlabel='age', ylabel='sex'>,\n",
       "        <AxesSubplot:xlabel='sex', ylabel='sex'>,\n",
       "        <AxesSubplot:xlabel='bmi', ylabel='sex'>,\n",
       "        <AxesSubplot:xlabel='children', ylabel='sex'>,\n",
       "        <AxesSubplot:xlabel='smoker', ylabel='sex'>,\n",
       "        <AxesSubplot:xlabel='region', ylabel='sex'>,\n",
       "        <AxesSubplot:xlabel='charges', ylabel='sex'>],\n",
       "       [<AxesSubplot:xlabel='age', ylabel='bmi'>,\n",
       "        <AxesSubplot:xlabel='sex', ylabel='bmi'>,\n",
       "        <AxesSubplot:xlabel='bmi', ylabel='bmi'>,\n",
       "        <AxesSubplot:xlabel='children', ylabel='bmi'>,\n",
       "        <AxesSubplot:xlabel='smoker', ylabel='bmi'>,\n",
       "        <AxesSubplot:xlabel='region', ylabel='bmi'>,\n",
       "        <AxesSubplot:xlabel='charges', ylabel='bmi'>],\n",
       "       [<AxesSubplot:xlabel='age', ylabel='children'>,\n",
       "        <AxesSubplot:xlabel='sex', ylabel='children'>,\n",
       "        <AxesSubplot:xlabel='bmi', ylabel='children'>,\n",
       "        <AxesSubplot:xlabel='children', ylabel='children'>,\n",
       "        <AxesSubplot:xlabel='smoker', ylabel='children'>,\n",
       "        <AxesSubplot:xlabel='region', ylabel='children'>,\n",
       "        <AxesSubplot:xlabel='charges', ylabel='children'>],\n",
       "       [<AxesSubplot:xlabel='age', ylabel='smoker'>,\n",
       "        <AxesSubplot:xlabel='sex', ylabel='smoker'>,\n",
       "        <AxesSubplot:xlabel='bmi', ylabel='smoker'>,\n",
       "        <AxesSubplot:xlabel='children', ylabel='smoker'>,\n",
       "        <AxesSubplot:xlabel='smoker', ylabel='smoker'>,\n",
       "        <AxesSubplot:xlabel='region', ylabel='smoker'>,\n",
       "        <AxesSubplot:xlabel='charges', ylabel='smoker'>],\n",
       "       [<AxesSubplot:xlabel='age', ylabel='region'>,\n",
       "        <AxesSubplot:xlabel='sex', ylabel='region'>,\n",
       "        <AxesSubplot:xlabel='bmi', ylabel='region'>,\n",
       "        <AxesSubplot:xlabel='children', ylabel='region'>,\n",
       "        <AxesSubplot:xlabel='smoker', ylabel='region'>,\n",
       "        <AxesSubplot:xlabel='region', ylabel='region'>,\n",
       "        <AxesSubplot:xlabel='charges', ylabel='region'>],\n",
       "       [<AxesSubplot:xlabel='age', ylabel='charges'>,\n",
       "        <AxesSubplot:xlabel='sex', ylabel='charges'>,\n",
       "        <AxesSubplot:xlabel='bmi', ylabel='charges'>,\n",
       "        <AxesSubplot:xlabel='children', ylabel='charges'>,\n",
       "        <AxesSubplot:xlabel='smoker', ylabel='charges'>,\n",
       "        <AxesSubplot:xlabel='region', ylabel='charges'>,\n",
       "        <AxesSubplot:xlabel='charges', ylabel='charges'>]], dtype=object)"
      ]
     },
     "execution_count": 20,
     "metadata": {},
     "output_type": "execute_result"
    },
    {
     "data": {
      "image/png": "[encoded data removed]",
      "text/plain": [
       "<Figure size 864x576 with 49 Axes>"
      ]
     },
     "metadata": {
      "needs_background": "light"
     },
     "output_type": "display_data"
    }
   ],
   "source": [
    "from pandas.plotting import scatter_matrix\n",
    "\n",
    "attributes = ['age', 'sex', 'bmi', 'children', 'smoker', 'region', 'charges']\n",
    "scatter_matrix(strat_train_set[attributes], figsize=(12, 8))"
   ]
  },
  {
   "cell_type": "markdown",
   "id": "2e289886",
   "metadata": {},
   "source": [
    "# Attribute Engineering\n",
    "\n",
    "Often, it is a good idea to try and combine attributes to further enrich the data of information that may not be there by the individual attributes. This is particularily used for numerical attributes. __Avoid using the label when combining features.__ This is important since the learning model may get information by the label indirectly through the combined attribute. Further, the label will not be available when we actually deploy the model (since we are trying to predict the label to begin with!)"
   ]
  },
  {
   "cell_type": "markdown",
   "id": "15a726e3",
   "metadata": {},
   "source": [
    "The most promising attributes are `bmi` and `age`."
   ]
  },
  {
   "cell_type": "code",
   "execution_count": 21,
   "id": "b2adb32c",
   "metadata": {},
   "outputs": [],
   "source": [
    "# Create dummy dataset so that we can play more safely with our dataset.\n",
    "attr_eng_train_set = strat_train_set.copy()\n",
    "attr_eng_train_set['bmi.per.year'] = attr_eng_train_set['bmi']/attr_eng_train_set['age']\n",
    "attr_eng_train_set['bmi.year'] = attr_eng_train_set['bmi']*attr_eng_train_set['age']"
   ]
  },
  {
   "cell_type": "code",
   "execution_count": 22,
   "id": "63748ece",
   "metadata": {},
   "outputs": [
    {
     "data": {
      "text/plain": [
       "charges         1.000000\n",
       "smoker          0.800094\n",
       "bmi.year        0.314253\n",
       "age             0.274163\n",
       "bmi             0.209491\n",
       "children        0.069946\n",
       "sex             0.058434\n",
       "region         -0.022080\n",
       "bmi.per.year   -0.131442\n",
       "Name: charges, dtype: float64"
      ]
     },
     "execution_count": 22,
     "metadata": {},
     "output_type": "execute_result"
    }
   ],
   "source": [
    "corr_matrix = attr_eng_train_set.corr()\n",
    "corr_matrix['charges'].sort_values(ascending=False)"
   ]
  },
  {
   "cell_type": "markdown",
   "id": "b8b51989",
   "metadata": {},
   "source": [
    "Note that `bmi.per.year` only has a slight negative correlation with charges. `bmi.year` on the other hand adds a better correlation than most other attributes. Because of this, we will add this new attribute combination to the original dataset so that when we resplit the dataset for learning, we keep this new attribute."
   ]
  },
  {
   "cell_type": "code",
   "execution_count": 23,
   "id": "54ceb41c",
   "metadata": {},
   "outputs": [],
   "source": [
    "insurance['bmi.year'] = insurance['bmi']*insurance['age']"
   ]
  },
  {
   "cell_type": "markdown",
   "id": "b0964d6c",
   "metadata": {},
   "source": [
    "With our newly conceived knowledge about the dataset, we can resplit the dataset, now using a better estimate for splitting."
   ]
  },
  {
   "cell_type": "code",
   "execution_count": 24,
   "id": "d2e997e7",
   "metadata": {},
   "outputs": [],
   "source": [
    "attrib = 'region'\n",
    "split = StratifiedShuffleSplit(n_splits=1, test_size=0.2, random_state=42)\n",
    "for train_i, test_i in split.split(insurance, insurance[attrib]):\n",
    "    strat_train_set = insurance.loc[train_i]\n",
    "    strat_test_set = insurance.loc[test_i]\n",
    "\n",
    "strat_train_set.reset_index(inplace=True, drop=True)\n",
    "strat_test_set.reset_index(inplace=True, drop=True)"
   ]
  },
  {
   "cell_type": "markdown",
   "id": "492d26ab",
   "metadata": {},
   "source": [
    "# Dataset Preparation\n",
    "\n",
    "Commonly, datasets have missing or invalid data. These data samples usually show as NaN values when looking at the data. In our case we do not have such an issue. This dataset has been precleaned by the dataset provided; thus, no further need for dataset cleaning is needed. In our other example with the Adult dataset we will encounter several missing values. Further discussion on how to work with incomplete data is given in the jupyter notebook for that dataset."
   ]
  },
  {
   "cell_type": "markdown",
   "id": "b08c8601",
   "metadata": {},
   "source": [
    "## Dealing with Categorical Data\n",
    "\n",
    "Often, machine learning models need special representation of categorical attributes. The reason for this is on their training algorithms that use optimization strategies that require numerical values. Often, it is enough for us to replace categorical values with integers. The categorical values we will be dealing with are:`sex`, `smoker`, `region`."
   ]
  },
  {
   "cell_type": "code",
   "execution_count": 25,
   "id": "74819a24",
   "metadata": {},
   "outputs": [
    {
     "data": {
      "text/html": [
       "<div>\n",
       "<style scoped>\n",
       "    .dataframe tbody tr th:only-of-type {\n",
       "        vertical-align: middle;\n",
       "    }\n",
       "\n",
       "    .dataframe tbody tr th {\n",
       "        vertical-align: top;\n",
       "    }\n",
       "\n",
       "    .dataframe thead th {\n",
       "        text-align: right;\n",
       "    }\n",
       "</style>\n",
       "<table border=\"1\" class=\"dataframe\">\n",
       "  <thead>\n",
       "    <tr style=\"text-align: right;\">\n",
       "      <th></th>\n",
       "      <th>age</th>\n",
       "      <th>sex</th>\n",
       "      <th>bmi</th>\n",
       "      <th>children</th>\n",
       "      <th>smoker</th>\n",
       "      <th>region</th>\n",
       "      <th>charges</th>\n",
       "      <th>bmi.year</th>\n",
       "    </tr>\n",
       "  </thead>\n",
       "  <tbody>\n",
       "    <tr>\n",
       "      <th>0</th>\n",
       "      <td>51</td>\n",
       "      <td>male</td>\n",
       "      <td>24.415</td>\n",
       "      <td>4</td>\n",
       "      <td>no</td>\n",
       "      <td>northwest</td>\n",
       "      <td>11520.09985</td>\n",
       "      <td>1245.165</td>\n",
       "    </tr>\n",
       "    <tr>\n",
       "      <th>1</th>\n",
       "      <td>28</td>\n",
       "      <td>female</td>\n",
       "      <td>25.935</td>\n",
       "      <td>1</td>\n",
       "      <td>no</td>\n",
       "      <td>northwest</td>\n",
       "      <td>4133.64165</td>\n",
       "      <td>726.180</td>\n",
       "    </tr>\n",
       "    <tr>\n",
       "      <th>2</th>\n",
       "      <td>18</td>\n",
       "      <td>female</td>\n",
       "      <td>31.350</td>\n",
       "      <td>0</td>\n",
       "      <td>no</td>\n",
       "      <td>southeast</td>\n",
       "      <td>1622.18850</td>\n",
       "      <td>564.300</td>\n",
       "    </tr>\n",
       "    <tr>\n",
       "      <th>3</th>\n",
       "      <td>50</td>\n",
       "      <td>male</td>\n",
       "      <td>25.300</td>\n",
       "      <td>0</td>\n",
       "      <td>no</td>\n",
       "      <td>southeast</td>\n",
       "      <td>8442.66700</td>\n",
       "      <td>1265.000</td>\n",
       "    </tr>\n",
       "    <tr>\n",
       "      <th>4</th>\n",
       "      <td>44</td>\n",
       "      <td>female</td>\n",
       "      <td>26.410</td>\n",
       "      <td>0</td>\n",
       "      <td>no</td>\n",
       "      <td>northwest</td>\n",
       "      <td>7419.47790</td>\n",
       "      <td>1162.040</td>\n",
       "    </tr>\n",
       "  </tbody>\n",
       "</table>\n",
       "</div>"
      ],
      "text/plain": [
       "   age     sex     bmi  children smoker     region      charges  bmi.year\n",
       "0   51    male  24.415         4     no  northwest  11520.09985  1245.165\n",
       "1   28  female  25.935         1     no  northwest   4133.64165   726.180\n",
       "2   18  female  31.350         0     no  southeast   1622.18850   564.300\n",
       "3   50    male  25.300         0     no  southeast   8442.66700  1265.000\n",
       "4   44  female  26.410         0     no  northwest   7419.47790  1162.040"
      ]
     },
     "execution_count": 25,
     "metadata": {},
     "output_type": "execute_result"
    }
   ],
   "source": [
    "strat_train_set.head()"
   ]
  },
  {
   "cell_type": "markdown",
   "id": "cd025dd8",
   "metadata": {},
   "source": [
    "### Encoding Categorical Attributes\n",
    "\n",
    "There are seberal common ways to deal with categorical attributes. The first one is to encode categories using numbers for each respective category. In this manner, region northwest could be given a value of 0, northeast a value of 1, southwest a value of 2, and southeast a value of 3. This can be achieved by using eithwe `OrdinalEncoder` or `LabelEncoder` from scikit-learn.\n",
    "\n",
    "Often, a third option is used called `OneHotEncoder`. One-hot encoding uses several columns to encode categorical data in bit-string format. for example, encoding the region attribute would use 4 columns. Each colum would represent whether a sample is of one type or another. For example, if the first column has a 1 and all other columns have a 0, then, we could say that the region is northwest. If the third column has a 1 and all other columns a value of 0, then we could say that the region for that sample is southwest. \n",
    "\n",
    "The benefit of using one-hot encoding is that by not placing a numerical value on the categories, we do not create a relationship among them where there may not exist one. For example, giving a higher value to southwest compare to northeast in region attribute could cause the machine learning algorithm to pick an inexisting relationship among attributes. One-hot encoding alleviates this problem."
   ]
  },
  {
   "cell_type": "code",
   "execution_count": 26,
   "id": "0ae1e9d6",
   "metadata": {},
   "outputs": [],
   "source": [
    "from sklearn.preprocessing import OneHotEncoder\n",
    "cat_attrs = ['sex', 'region', 'smoker']\n",
    "\n",
    "ohe = OneHotEncoder()\n",
    "ohe.fit(insurance[cat_attrs])\n",
    "ohe_train = pd.DataFrame(ohe.transform(strat_train_set[cat_attrs]).toarray())\n",
    "ohe_test = pd.DataFrame(ohe.transform(strat_test_set[cat_attrs]).toarray())\n",
    "\n",
    "# Drop categorical data\n",
    "strat_train_set.drop(cat_attrs, axis=1, inplace=True)\n",
    "strat_test_set.drop(cat_attrs, axis=1, inplace=True)\n",
    "\n",
    "# Replace with one-hot encoded data\n",
    "strat_train_set = strat_train_set.join(ohe_train)\n",
    "strat_test_set = strat_test_set.join(ohe_test)\n",
    "\n",
    "# Kepp column names as string\n",
    "strat_train_set.columns = strat_train_set.columns.astype(str)\n",
    "strat_test_set.columns = strat_test_set.columns.astype(str)\n"
   ]
  },
  {
   "cell_type": "code",
   "execution_count": 27,
   "id": "0d73574b",
   "metadata": {},
   "outputs": [
    {
     "data": {
      "text/html": [
       "<div>\n",
       "<style scoped>\n",
       "    .dataframe tbody tr th:only-of-type {\n",
       "        vertical-align: middle;\n",
       "    }\n",
       "\n",
       "    .dataframe tbody tr th {\n",
       "        vertical-align: top;\n",
       "    }\n",
       "\n",
       "    .dataframe thead th {\n",
       "        text-align: right;\n",
       "    }\n",
       "</style>\n",
       "<table border=\"1\" class=\"dataframe\">\n",
       "  <thead>\n",
       "    <tr style=\"text-align: right;\">\n",
       "      <th></th>\n",
       "      <th>age</th>\n",
       "      <th>bmi</th>\n",
       "      <th>children</th>\n",
       "      <th>charges</th>\n",
       "      <th>bmi.year</th>\n",
       "      <th>0</th>\n",
       "      <th>1</th>\n",
       "      <th>2</th>\n",
       "      <th>3</th>\n",
       "      <th>4</th>\n",
       "      <th>5</th>\n",
       "      <th>6</th>\n",
       "      <th>7</th>\n",
       "    </tr>\n",
       "  </thead>\n",
       "  <tbody>\n",
       "    <tr>\n",
       "      <th>0</th>\n",
       "      <td>51</td>\n",
       "      <td>24.415</td>\n",
       "      <td>4</td>\n",
       "      <td>11520.09985</td>\n",
       "      <td>1245.165</td>\n",
       "      <td>0.0</td>\n",
       "      <td>1.0</td>\n",
       "      <td>0.0</td>\n",
       "      <td>1.0</td>\n",
       "      <td>0.0</td>\n",
       "      <td>0.0</td>\n",
       "      <td>1.0</td>\n",
       "      <td>0.0</td>\n",
       "    </tr>\n",
       "    <tr>\n",
       "      <th>1</th>\n",
       "      <td>28</td>\n",
       "      <td>25.935</td>\n",
       "      <td>1</td>\n",
       "      <td>4133.64165</td>\n",
       "      <td>726.180</td>\n",
       "      <td>1.0</td>\n",
       "      <td>0.0</td>\n",
       "      <td>0.0</td>\n",
       "      <td>1.0</td>\n",
       "      <td>0.0</td>\n",
       "      <td>0.0</td>\n",
       "      <td>1.0</td>\n",
       "      <td>0.0</td>\n",
       "    </tr>\n",
       "    <tr>\n",
       "      <th>2</th>\n",
       "      <td>18</td>\n",
       "      <td>31.350</td>\n",
       "      <td>0</td>\n",
       "      <td>1622.18850</td>\n",
       "      <td>564.300</td>\n",
       "      <td>1.0</td>\n",
       "      <td>0.0</td>\n",
       "      <td>0.0</td>\n",
       "      <td>0.0</td>\n",
       "      <td>1.0</td>\n",
       "      <td>0.0</td>\n",
       "      <td>1.0</td>\n",
       "      <td>0.0</td>\n",
       "    </tr>\n",
       "    <tr>\n",
       "      <th>3</th>\n",
       "      <td>50</td>\n",
       "      <td>25.300</td>\n",
       "      <td>0</td>\n",
       "      <td>8442.66700</td>\n",
       "      <td>1265.000</td>\n",
       "      <td>0.0</td>\n",
       "      <td>1.0</td>\n",
       "      <td>0.0</td>\n",
       "      <td>0.0</td>\n",
       "      <td>1.0</td>\n",
       "      <td>0.0</td>\n",
       "      <td>1.0</td>\n",
       "      <td>0.0</td>\n",
       "    </tr>\n",
       "    <tr>\n",
       "      <th>4</th>\n",
       "      <td>44</td>\n",
       "      <td>26.410</td>\n",
       "      <td>0</td>\n",
       "      <td>7419.47790</td>\n",
       "      <td>1162.040</td>\n",
       "      <td>1.0</td>\n",
       "      <td>0.0</td>\n",
       "      <td>0.0</td>\n",
       "      <td>1.0</td>\n",
       "      <td>0.0</td>\n",
       "      <td>0.0</td>\n",
       "      <td>1.0</td>\n",
       "      <td>0.0</td>\n",
       "    </tr>\n",
       "  </tbody>\n",
       "</table>\n",
       "</div>"
      ],
      "text/plain": [
       "   age     bmi  children      charges  bmi.year    0    1    2    3    4    5  \\\n",
       "0   51  24.415         4  11520.09985  1245.165  0.0  1.0  0.0  1.0  0.0  0.0   \n",
       "1   28  25.935         1   4133.64165   726.180  1.0  0.0  0.0  1.0  0.0  0.0   \n",
       "2   18  31.350         0   1622.18850   564.300  1.0  0.0  0.0  0.0  1.0  0.0   \n",
       "3   50  25.300         0   8442.66700  1265.000  0.0  1.0  0.0  0.0  1.0  0.0   \n",
       "4   44  26.410         0   7419.47790  1162.040  1.0  0.0  0.0  1.0  0.0  0.0   \n",
       "\n",
       "     6    7  \n",
       "0  1.0  0.0  \n",
       "1  1.0  0.0  \n",
       "2  1.0  0.0  \n",
       "3  1.0  0.0  \n",
       "4  1.0  0.0  "
      ]
     },
     "execution_count": 27,
     "metadata": {},
     "output_type": "execute_result"
    }
   ],
   "source": [
    "strat_train_set.head()"
   ]
  },
  {
   "cell_type": "code",
   "execution_count": 28,
   "id": "3823b948",
   "metadata": {},
   "outputs": [
    {
     "data": {
      "text/html": [
       "<div>\n",
       "<style scoped>\n",
       "    .dataframe tbody tr th:only-of-type {\n",
       "        vertical-align: middle;\n",
       "    }\n",
       "\n",
       "    .dataframe tbody tr th {\n",
       "        vertical-align: top;\n",
       "    }\n",
       "\n",
       "    .dataframe thead th {\n",
       "        text-align: right;\n",
       "    }\n",
       "</style>\n",
       "<table border=\"1\" class=\"dataframe\">\n",
       "  <thead>\n",
       "    <tr style=\"text-align: right;\">\n",
       "      <th></th>\n",
       "      <th>age</th>\n",
       "      <th>bmi</th>\n",
       "      <th>children</th>\n",
       "      <th>charges</th>\n",
       "      <th>bmi.year</th>\n",
       "      <th>0</th>\n",
       "      <th>1</th>\n",
       "      <th>2</th>\n",
       "      <th>3</th>\n",
       "      <th>4</th>\n",
       "      <th>5</th>\n",
       "      <th>6</th>\n",
       "      <th>7</th>\n",
       "    </tr>\n",
       "  </thead>\n",
       "  <tbody>\n",
       "    <tr>\n",
       "      <th>0</th>\n",
       "      <td>40</td>\n",
       "      <td>41.420</td>\n",
       "      <td>1</td>\n",
       "      <td>28476.73499</td>\n",
       "      <td>1656.800</td>\n",
       "      <td>1.0</td>\n",
       "      <td>0.0</td>\n",
       "      <td>0.0</td>\n",
       "      <td>1.0</td>\n",
       "      <td>0.0</td>\n",
       "      <td>0.0</td>\n",
       "      <td>1.0</td>\n",
       "      <td>0.0</td>\n",
       "    </tr>\n",
       "    <tr>\n",
       "      <th>1</th>\n",
       "      <td>33</td>\n",
       "      <td>26.695</td>\n",
       "      <td>0</td>\n",
       "      <td>4571.41305</td>\n",
       "      <td>880.935</td>\n",
       "      <td>1.0</td>\n",
       "      <td>0.0</td>\n",
       "      <td>0.0</td>\n",
       "      <td>1.0</td>\n",
       "      <td>0.0</td>\n",
       "      <td>0.0</td>\n",
       "      <td>1.0</td>\n",
       "      <td>0.0</td>\n",
       "    </tr>\n",
       "    <tr>\n",
       "      <th>2</th>\n",
       "      <td>22</td>\n",
       "      <td>34.580</td>\n",
       "      <td>2</td>\n",
       "      <td>3925.75820</td>\n",
       "      <td>760.760</td>\n",
       "      <td>1.0</td>\n",
       "      <td>0.0</td>\n",
       "      <td>1.0</td>\n",
       "      <td>0.0</td>\n",
       "      <td>0.0</td>\n",
       "      <td>0.0</td>\n",
       "      <td>1.0</td>\n",
       "      <td>0.0</td>\n",
       "    </tr>\n",
       "    <tr>\n",
       "      <th>3</th>\n",
       "      <td>34</td>\n",
       "      <td>38.000</td>\n",
       "      <td>3</td>\n",
       "      <td>6196.44800</td>\n",
       "      <td>1292.000</td>\n",
       "      <td>1.0</td>\n",
       "      <td>0.0</td>\n",
       "      <td>0.0</td>\n",
       "      <td>0.0</td>\n",
       "      <td>0.0</td>\n",
       "      <td>1.0</td>\n",
       "      <td>1.0</td>\n",
       "      <td>0.0</td>\n",
       "    </tr>\n",
       "    <tr>\n",
       "      <th>4</th>\n",
       "      <td>57</td>\n",
       "      <td>34.010</td>\n",
       "      <td>0</td>\n",
       "      <td>11356.66090</td>\n",
       "      <td>1938.570</td>\n",
       "      <td>0.0</td>\n",
       "      <td>1.0</td>\n",
       "      <td>0.0</td>\n",
       "      <td>1.0</td>\n",
       "      <td>0.0</td>\n",
       "      <td>0.0</td>\n",
       "      <td>1.0</td>\n",
       "      <td>0.0</td>\n",
       "    </tr>\n",
       "  </tbody>\n",
       "</table>\n",
       "</div>"
      ],
      "text/plain": [
       "   age     bmi  children      charges  bmi.year    0    1    2    3    4    5  \\\n",
       "0   40  41.420         1  28476.73499  1656.800  1.0  0.0  0.0  1.0  0.0  0.0   \n",
       "1   33  26.695         0   4571.41305   880.935  1.0  0.0  0.0  1.0  0.0  0.0   \n",
       "2   22  34.580         2   3925.75820   760.760  1.0  0.0  1.0  0.0  0.0  0.0   \n",
       "3   34  38.000         3   6196.44800  1292.000  1.0  0.0  0.0  0.0  0.0  1.0   \n",
       "4   57  34.010         0  11356.66090  1938.570  0.0  1.0  0.0  1.0  0.0  0.0   \n",
       "\n",
       "     6    7  \n",
       "0  1.0  0.0  \n",
       "1  1.0  0.0  \n",
       "2  1.0  0.0  \n",
       "3  1.0  0.0  \n",
       "4  1.0  0.0  "
      ]
     },
     "execution_count": 28,
     "metadata": {},
     "output_type": "execute_result"
    }
   ],
   "source": [
    "strat_test_set.head()"
   ]
  },
  {
   "cell_type": "markdown",
   "id": "eba2b977",
   "metadata": {},
   "source": [
    "## Feature Scalling\n",
    "\n",
    "Sometimes, data comes in varying degrees of scales. For example, our dataset attribute `bmi.year` is widely distributed. This is evident when we look at the `describe()` function of the dataset and note the difference between max and min statistics. These large numbers can make machine learning models take longer than expected to learn a solution. to make learning easier, it is good practice to \"standarize\" or \"noramlize\" our data. There are two main ways by which this can be achieved:\n",
    "\n",
    "- min-max scaling:\n",
    "  - We use the difference between the minimum and maximum values in the dataset to keep data between 0 and 1.\n",
    "- standarization:\n",
    "  - We use the mean to \"de-mean\" the data. Then, we divide the data by the standard deviation to scale values to unit variances.\n",
    "\n",
    "Note that the main difference is that min-max gives values between 0 and 1 and standarization does not.\n",
    "\n",
    "There is no particular rule to when to use each type of scaling. It is a good idea to try both and compare how much each improves data prediction."
   ]
  },
  {
   "cell_type": "code",
   "execution_count": 29,
   "id": "bb9ada0d",
   "metadata": {},
   "outputs": [
    {
     "data": {
      "text/html": [
       "<div>\n",
       "<style scoped>\n",
       "    .dataframe tbody tr th:only-of-type {\n",
       "        vertical-align: middle;\n",
       "    }\n",
       "\n",
       "    .dataframe tbody tr th {\n",
       "        vertical-align: top;\n",
       "    }\n",
       "\n",
       "    .dataframe thead th {\n",
       "        text-align: right;\n",
       "    }\n",
       "</style>\n",
       "<table border=\"1\" class=\"dataframe\">\n",
       "  <thead>\n",
       "    <tr style=\"text-align: right;\">\n",
       "      <th></th>\n",
       "      <th>age</th>\n",
       "      <th>bmi</th>\n",
       "      <th>children</th>\n",
       "      <th>charges</th>\n",
       "      <th>bmi.year</th>\n",
       "    </tr>\n",
       "  </thead>\n",
       "  <tbody>\n",
       "    <tr>\n",
       "      <th>count</th>\n",
       "      <td>1338.000000</td>\n",
       "      <td>1338.000000</td>\n",
       "      <td>1338.000000</td>\n",
       "      <td>1338.000000</td>\n",
       "      <td>1338.000000</td>\n",
       "    </tr>\n",
       "    <tr>\n",
       "      <th>mean</th>\n",
       "      <td>39.207025</td>\n",
       "      <td>30.663397</td>\n",
       "      <td>1.094918</td>\n",
       "      <td>13270.422265</td>\n",
       "      <td>1211.575919</td>\n",
       "    </tr>\n",
       "    <tr>\n",
       "      <th>std</th>\n",
       "      <td>14.049960</td>\n",
       "      <td>6.098187</td>\n",
       "      <td>1.205493</td>\n",
       "      <td>12110.011237</td>\n",
       "      <td>522.608731</td>\n",
       "    </tr>\n",
       "    <tr>\n",
       "      <th>min</th>\n",
       "      <td>18.000000</td>\n",
       "      <td>15.960000</td>\n",
       "      <td>0.000000</td>\n",
       "      <td>1121.873900</td>\n",
       "      <td>287.280000</td>\n",
       "    </tr>\n",
       "    <tr>\n",
       "      <th>25%</th>\n",
       "      <td>27.000000</td>\n",
       "      <td>26.296250</td>\n",
       "      <td>0.000000</td>\n",
       "      <td>4740.287150</td>\n",
       "      <td>765.625000</td>\n",
       "    </tr>\n",
       "    <tr>\n",
       "      <th>50%</th>\n",
       "      <td>39.000000</td>\n",
       "      <td>30.400000</td>\n",
       "      <td>1.000000</td>\n",
       "      <td>9382.033000</td>\n",
       "      <td>1152.225000</td>\n",
       "    </tr>\n",
       "    <tr>\n",
       "      <th>75%</th>\n",
       "      <td>51.000000</td>\n",
       "      <td>34.693750</td>\n",
       "      <td>2.000000</td>\n",
       "      <td>16639.912515</td>\n",
       "      <td>1589.085000</td>\n",
       "    </tr>\n",
       "    <tr>\n",
       "      <th>max</th>\n",
       "      <td>64.000000</td>\n",
       "      <td>53.130000</td>\n",
       "      <td>5.000000</td>\n",
       "      <td>63770.428010</td>\n",
       "      <td>2845.480000</td>\n",
       "    </tr>\n",
       "  </tbody>\n",
       "</table>\n",
       "</div>"
      ],
      "text/plain": [
       "               age          bmi     children       charges     bmi.year\n",
       "count  1338.000000  1338.000000  1338.000000   1338.000000  1338.000000\n",
       "mean     39.207025    30.663397     1.094918  13270.422265  1211.575919\n",
       "std      14.049960     6.098187     1.205493  12110.011237   522.608731\n",
       "min      18.000000    15.960000     0.000000   1121.873900   287.280000\n",
       "25%      27.000000    26.296250     0.000000   4740.287150   765.625000\n",
       "50%      39.000000    30.400000     1.000000   9382.033000  1152.225000\n",
       "75%      51.000000    34.693750     2.000000  16639.912515  1589.085000\n",
       "max      64.000000    53.130000     5.000000  63770.428010  2845.480000"
      ]
     },
     "execution_count": 29,
     "metadata": {},
     "output_type": "execute_result"
    }
   ],
   "source": [
    "insurance.describe()"
   ]
  },
  {
   "cell_type": "markdown",
   "id": "a7d1eca2",
   "metadata": {},
   "source": [
    "As a side note, it can be also a good idea to scale the charges attribute. This is common practice in machine learning, but it requires reversing this scaling to obtain the true estimate. Because we attempt to keep this workshop as simple as possible we will avoid this step for now. Further, this step is usually taken when the value is trully large such as in the quatrillions and above."
   ]
  },
  {
   "cell_type": "code",
   "execution_count": 30,
   "id": "b2cb3f58",
   "metadata": {},
   "outputs": [],
   "source": [
    "from sklearn.preprocessing import StandardScaler, MinMaxScaler\n",
    "\n",
    "\n",
    "to_scale = ['bmi.year']\n",
    "# We use two scalers to isolate both datasets\n",
    "ss_train = StandardScaler()\n",
    "ss_test = StandardScaler()\n",
    "# mm_train = MinMaxScaler()\n",
    "# mm_test = MinMaxScaler()\n",
    "\n",
    "strat_train_set[to_scale] = ss_train.fit_transform(strat_train_set[to_scale])\n",
    "strat_test_set[to_scale] = ss_test.fit_transform(strat_test_set[to_scale])"
   ]
  },
  {
   "cell_type": "code",
   "execution_count": 31,
   "id": "7881cde1",
   "metadata": {},
   "outputs": [
    {
     "data": {
      "text/html": [
       "<div>\n",
       "<style scoped>\n",
       "    .dataframe tbody tr th:only-of-type {\n",
       "        vertical-align: middle;\n",
       "    }\n",
       "\n",
       "    .dataframe tbody tr th {\n",
       "        vertical-align: top;\n",
       "    }\n",
       "\n",
       "    .dataframe thead th {\n",
       "        text-align: right;\n",
       "    }\n",
       "</style>\n",
       "<table border=\"1\" class=\"dataframe\">\n",
       "  <thead>\n",
       "    <tr style=\"text-align: right;\">\n",
       "      <th></th>\n",
       "      <th>age</th>\n",
       "      <th>bmi</th>\n",
       "      <th>children</th>\n",
       "      <th>charges</th>\n",
       "      <th>bmi.year</th>\n",
       "      <th>0</th>\n",
       "      <th>1</th>\n",
       "      <th>2</th>\n",
       "      <th>3</th>\n",
       "      <th>4</th>\n",
       "      <th>5</th>\n",
       "      <th>6</th>\n",
       "      <th>7</th>\n",
       "    </tr>\n",
       "  </thead>\n",
       "  <tbody>\n",
       "    <tr>\n",
       "      <th>count</th>\n",
       "      <td>1070.000000</td>\n",
       "      <td>1070.000000</td>\n",
       "      <td>1070.000000</td>\n",
       "      <td>1070.000000</td>\n",
       "      <td>1.070000e+03</td>\n",
       "      <td>1070.000000</td>\n",
       "      <td>1070.000000</td>\n",
       "      <td>1070.000000</td>\n",
       "      <td>1070.000000</td>\n",
       "      <td>1070.000000</td>\n",
       "      <td>1070.000000</td>\n",
       "      <td>1070.000000</td>\n",
       "      <td>1070.000000</td>\n",
       "    </tr>\n",
       "    <tr>\n",
       "      <th>mean</th>\n",
       "      <td>38.988785</td>\n",
       "      <td>30.539458</td>\n",
       "      <td>1.100000</td>\n",
       "      <td>13138.892603</td>\n",
       "      <td>-2.556626e-16</td>\n",
       "      <td>0.479439</td>\n",
       "      <td>0.520561</td>\n",
       "      <td>0.242056</td>\n",
       "      <td>0.242991</td>\n",
       "      <td>0.271963</td>\n",
       "      <td>0.242991</td>\n",
       "      <td>0.802804</td>\n",
       "      <td>0.197196</td>\n",
       "    </tr>\n",
       "    <tr>\n",
       "      <th>std</th>\n",
       "      <td>14.134125</td>\n",
       "      <td>6.060059</td>\n",
       "      <td>1.213542</td>\n",
       "      <td>12045.116447</td>\n",
       "      <td>1.000468e+00</td>\n",
       "      <td>0.499811</td>\n",
       "      <td>0.499811</td>\n",
       "      <td>0.428528</td>\n",
       "      <td>0.429090</td>\n",
       "      <td>0.445179</td>\n",
       "      <td>0.429090</td>\n",
       "      <td>0.398068</td>\n",
       "      <td>0.398068</td>\n",
       "    </tr>\n",
       "    <tr>\n",
       "      <th>min</th>\n",
       "      <td>18.000000</td>\n",
       "      <td>15.960000</td>\n",
       "      <td>0.000000</td>\n",
       "      <td>1121.873900</td>\n",
       "      <td>-1.734773e+00</td>\n",
       "      <td>0.000000</td>\n",
       "      <td>0.000000</td>\n",
       "      <td>0.000000</td>\n",
       "      <td>0.000000</td>\n",
       "      <td>0.000000</td>\n",
       "      <td>0.000000</td>\n",
       "      <td>0.000000</td>\n",
       "      <td>0.000000</td>\n",
       "    </tr>\n",
       "    <tr>\n",
       "      <th>25%</th>\n",
       "      <td>26.000000</td>\n",
       "      <td>26.125000</td>\n",
       "      <td>0.000000</td>\n",
       "      <td>4662.866675</td>\n",
       "      <td>-8.641093e-01</td>\n",
       "      <td>0.000000</td>\n",
       "      <td>0.000000</td>\n",
       "      <td>0.000000</td>\n",
       "      <td>0.000000</td>\n",
       "      <td>0.000000</td>\n",
       "      <td>0.000000</td>\n",
       "      <td>1.000000</td>\n",
       "      <td>0.000000</td>\n",
       "    </tr>\n",
       "    <tr>\n",
       "      <th>50%</th>\n",
       "      <td>39.000000</td>\n",
       "      <td>30.230000</td>\n",
       "      <td>1.000000</td>\n",
       "      <td>9257.146100</td>\n",
       "      <td>-1.055805e-01</td>\n",
       "      <td>0.000000</td>\n",
       "      <td>1.000000</td>\n",
       "      <td>0.000000</td>\n",
       "      <td>0.000000</td>\n",
       "      <td>0.000000</td>\n",
       "      <td>0.000000</td>\n",
       "      <td>1.000000</td>\n",
       "      <td>0.000000</td>\n",
       "    </tr>\n",
       "    <tr>\n",
       "      <th>75%</th>\n",
       "      <td>51.000000</td>\n",
       "      <td>34.422500</td>\n",
       "      <td>2.000000</td>\n",
       "      <td>16454.504562</td>\n",
       "      <td>7.085989e-01</td>\n",
       "      <td>1.000000</td>\n",
       "      <td>1.000000</td>\n",
       "      <td>0.000000</td>\n",
       "      <td>0.000000</td>\n",
       "      <td>1.000000</td>\n",
       "      <td>0.000000</td>\n",
       "      <td>1.000000</td>\n",
       "      <td>0.000000</td>\n",
       "    </tr>\n",
       "    <tr>\n",
       "      <th>max</th>\n",
       "      <td>64.000000</td>\n",
       "      <td>53.130000</td>\n",
       "      <td>5.000000</td>\n",
       "      <td>63770.428010</td>\n",
       "      <td>3.113367e+00</td>\n",
       "      <td>1.000000</td>\n",
       "      <td>1.000000</td>\n",
       "      <td>1.000000</td>\n",
       "      <td>1.000000</td>\n",
       "      <td>1.000000</td>\n",
       "      <td>1.000000</td>\n",
       "      <td>1.000000</td>\n",
       "      <td>1.000000</td>\n",
       "    </tr>\n",
       "  </tbody>\n",
       "</table>\n",
       "</div>"
      ],
      "text/plain": [
       "               age          bmi     children       charges      bmi.year  \\\n",
       "count  1070.000000  1070.000000  1070.000000   1070.000000  1.070000e+03   \n",
       "mean     38.988785    30.539458     1.100000  13138.892603 -2.556626e-16   \n",
       "std      14.134125     6.060059     1.213542  12045.116447  1.000468e+00   \n",
       "min      18.000000    15.960000     0.000000   1121.873900 -1.734773e+00   \n",
       "25%      26.000000    26.125000     0.000000   4662.866675 -8.641093e-01   \n",
       "50%      39.000000    30.230000     1.000000   9257.146100 -1.055805e-01   \n",
       "75%      51.000000    34.422500     2.000000  16454.504562  7.085989e-01   \n",
       "max      64.000000    53.130000     5.000000  63770.428010  3.113367e+00   \n",
       "\n",
       "                 0            1            2            3            4  \\\n",
       "count  1070.000000  1070.000000  1070.000000  1070.000000  1070.000000   \n",
       "mean      0.479439     0.520561     0.242056     0.242991     0.271963   \n",
       "std       0.499811     0.499811     0.428528     0.429090     0.445179   \n",
       "min       0.000000     0.000000     0.000000     0.000000     0.000000   \n",
       "25%       0.000000     0.000000     0.000000     0.000000     0.000000   \n",
       "50%       0.000000     1.000000     0.000000     0.000000     0.000000   \n",
       "75%       1.000000     1.000000     0.000000     0.000000     1.000000   \n",
       "max       1.000000     1.000000     1.000000     1.000000     1.000000   \n",
       "\n",
       "                 5            6            7  \n",
       "count  1070.000000  1070.000000  1070.000000  \n",
       "mean      0.242991     0.802804     0.197196  \n",
       "std       0.429090     0.398068     0.398068  \n",
       "min       0.000000     0.000000     0.000000  \n",
       "25%       0.000000     1.000000     0.000000  \n",
       "50%       0.000000     1.000000     0.000000  \n",
       "75%       0.000000     1.000000     0.000000  \n",
       "max       1.000000     1.000000     1.000000  "
      ]
     },
     "execution_count": 31,
     "metadata": {},
     "output_type": "execute_result"
    }
   ],
   "source": [
    "strat_train_set.describe()"
   ]
  },
  {
   "cell_type": "markdown",
   "id": "f9c66c6f",
   "metadata": {},
   "source": [
    "# Model Selection\n",
    "\n",
    "There is a plethora of different machine learning models. Depending on the application, some models may be better than others. In this case, we are dealing with a classification problem. Because of this, some recomended models to try are:\n",
    "\n",
    "- Ordinary Least Squares\n",
    "- Ridge Regression\n",
    "- Lasso\n",
    "- Elastic Net\n",
    "- Stochastic Gradient Descent\n",
    "- Multi-Layer Perceptron"
   ]
  },
  {
   "cell_type": "markdown",
   "id": "5185d21f",
   "metadata": {},
   "source": [
    "For training, we remove the labels from the training data. Leaving them in the dataset will be reminiscent to giving test answers to a class. It is common practice to use an X variable for the de-labeled data and y for the labels."
   ]
  },
  {
   "cell_type": "code",
   "execution_count": 32,
   "id": "5fc38542",
   "metadata": {},
   "outputs": [
    {
     "data": {
      "text/plain": [
       "RandomForestRegressor()"
      ]
     },
     "execution_count": 32,
     "metadata": {},
     "output_type": "execute_result"
    }
   ],
   "source": [
    "from sklearn.linear_model import LinearRegression\n",
    "from sklearn.linear_model import Ridge\n",
    "from sklearn.linear_model import Lasso\n",
    "from sklearn.linear_model import ElasticNet\n",
    "from sklearn.linear_model import SGDRegressor\n",
    "from sklearn.neural_network import MLPRegressor\n",
    "from sklearn.svm import SVR\n",
    "from sklearn.ensemble import RandomForestRegressor\n",
    "from sklearn.ensemble import AdaBoostRegressor\n",
    "\n",
    "model = RandomForestRegressor()\n",
    "\n",
    "# Remove labels.\n",
    "X = strat_train_set.drop(['charges'], axis=1)\n",
    "# Put labels in different variable\n",
    "y = strat_train_set['charges']\n",
    "\n",
    "# Here it is where the magic happend\n",
    "model.fit(X, y)"
   ]
  },
  {
   "cell_type": "markdown",
   "id": "50475898",
   "metadata": {},
   "source": [
    "In order for us to distinguish among models, it is a good idea to pick an accuracy estimator. There are many accuracy estimators that are used in different circumstances. Some of the most used are root mean squared error (RMSE) and mean absolute error (MAE). We highly recomend you read about other accuracy estimators for these estimators have special applications for different goals in data science."
   ]
  },
  {
   "cell_type": "code",
   "execution_count": 33,
   "id": "60038e42",
   "metadata": {},
   "outputs": [],
   "source": [
    "from sklearn.metrics import mean_squared_error\n",
    "from sklearn.metrics import mean_absolute_error\n",
    "\n",
    "train_pred = model.predict(X)\n",
    "\n",
    "test_X = strat_test_set.drop(['charges'], axis=1)\n",
    "test_pred = model.predict(test_X)\n",
    "test_y = strat_test_set['charges']\n",
    "\n",
    "train_rmse = np.sqrt(mean_squared_error(y, train_pred))\n",
    "test_rmse = np.sqrt(mean_squared_error(test_y, test_pred))\n",
    "\n",
    "train_mae = mean_absolute_error(y, train_pred)\n",
    "test_mae = mean_absolute_error(test_y, test_pred)\n"
   ]
  },
  {
   "cell_type": "code",
   "execution_count": 34,
   "id": "82e9441b",
   "metadata": {},
   "outputs": [
    {
     "name": "stdout",
     "output_type": "stream",
     "text": [
      "Training Score: 1908.1250515237161 | Testing Score: 4431.645478863634\n"
     ]
    }
   ],
   "source": [
    "print(f\"Training Score: {train_rmse} | Testing Score: {test_rmse}\")"
   ]
  },
  {
   "cell_type": "code",
   "execution_count": 35,
   "id": "1e3eaa4a",
   "metadata": {},
   "outputs": [
    {
     "name": "stdout",
     "output_type": "stream",
     "text": [
      "Training Score: 1039.22931815143 | Testing Score: 2439.7091857574687\n"
     ]
    }
   ],
   "source": [
    "print(f\"Training Score: {train_mae} | Testing Score: {test_mae}\")"
   ]
  },
  {
   "cell_type": "markdown",
   "id": "aa4ae283",
   "metadata": {},
   "source": [
    "As an interesting observation, testing a linear regressor produces a score that is worse for training dataset than testing dataset. This is because the the model may not be powerful enough for learning the relationships. Testing with a RandomForestRegressor produces a much better score."
   ]
  },
  {
   "cell_type": "code",
   "execution_count": 36,
   "id": "4448c955",
   "metadata": {
    "scrolled": true
   },
   "outputs": [
    {
     "data": {
      "text/plain": [
       "array([ 6592.88283  ,  7067.9799109,  7248.9161239,  6058.6503406,\n",
       "       11621.6384418,  6696.016605 , 12132.3918058, 10343.5825846,\n",
       "        3253.0449248, 11902.9916899, 19548.5872075,  4421.1573561,\n",
       "       50164.0170948,  8322.4108547,  7943.7440335, 11975.6731628,\n",
       "       17401.6393325, 11317.50149  , 23133.0832885,  7101.0472877])"
      ]
     },
     "execution_count": 36,
     "metadata": {},
     "output_type": "execute_result"
    }
   ],
   "source": [
    "test_pred[:20]"
   ]
  },
  {
   "cell_type": "code",
   "execution_count": 37,
   "id": "68f635e2",
   "metadata": {
    "scrolled": true
   },
   "outputs": [
    {
     "data": {
      "text/plain": [
       "0     28476.73499\n",
       "1      4571.41305\n",
       "2      3925.75820\n",
       "3      6196.44800\n",
       "4     11356.66090\n",
       "5      6203.90175\n",
       "6      9863.47180\n",
       "7      9304.70190\n",
       "8      1980.07000\n",
       "9      8703.45600\n",
       "10    12265.50690\n",
       "11     3947.41310\n",
       "12    48673.55880\n",
       "13     8252.28430\n",
       "14     7133.90250\n",
       "15    10118.42400\n",
       "16    18033.96790\n",
       "17    10043.24900\n",
       "18    21082.16000\n",
       "19     6796.86325\n",
       "Name: charges, dtype: float64"
      ]
     },
     "execution_count": 37,
     "metadata": {},
     "output_type": "execute_result"
    }
   ],
   "source": [
    "test_y[:20]"
   ]
  },
  {
   "cell_type": "markdown",
   "id": "82092347",
   "metadata": {},
   "source": [
    "# Model Fine Tuning\n",
    "\n",
    "As it can be appreciated, the scores obtained above are not phenomenal. The model definetely learns something, but the score reglects that when the model is put to the test, it still struggles. There can be many reasons for this, but one of the main reasons is that the model has not been fine tuned. Machine learning models come with pre-set attributes that may or may not be the best for a particular dataset. Because of this, it is a good idea to test different parameters. Often, testing new parameters will help the model perform better. Check out scikit-learn's documentation to find out about what parameters you can test to try."
   ]
  },
  {
   "cell_type": "code",
   "execution_count": 38,
   "id": "055e5138",
   "metadata": {},
   "outputs": [
    {
     "data": {
      "text/plain": [
       "GridSearchCV(cv=10, estimator=RandomForestRegressor(), n_jobs=7,\n",
       "             param_grid=[{'criterion': ['squared_error', 'absolute_error',\n",
       "                                        'poisson'],\n",
       "                          'n_estimators': [50, 75, 100, 125, 150]}],\n",
       "             return_train_score=True, scoring='neg_mean_absolute_error')"
      ]
     },
     "execution_count": 38,
     "metadata": {},
     "output_type": "execute_result"
    }
   ],
   "source": [
    "from sklearn.model_selection import GridSearchCV\n",
    "\n",
    "# Random Forest Regressor's\n",
    "param_grid = [\n",
    "    {\n",
    "        'n_estimators': [50, 75, 100, 125, 150],\n",
    "        'criterion': ['squared_error', 'absolute_error', 'poisson'],\n",
    "    }\n",
    "]\n",
    "model = RandomForestRegressor()\n",
    "grid_search = GridSearchCV(model, param_grid, cv=10, scoring='neg_mean_absolute_error', return_train_score=True, n_jobs=7)\n",
    "grid_search.fit(X, y)"
   ]
  },
  {
   "cell_type": "code",
   "execution_count": 39,
   "id": "acfe1e5e",
   "metadata": {},
   "outputs": [],
   "source": [
    "best_model = grid_search.best_estimator_\n",
    "\n",
    "train_pred = best_model.predict(X)\n",
    "\n",
    "test_X = strat_test_set.drop(['charges'], axis=1)\n",
    "test_pred = best_model.predict(test_X)\n",
    "test_y = strat_test_set['charges']\n",
    "\n",
    "train_rmse = np.sqrt(mean_squared_error(y, train_pred))\n",
    "test_rmse = np.sqrt(mean_squared_error(test_y, test_pred))\n",
    "\n",
    "train_mae = mean_absolute_error(y, train_pred)\n",
    "test_mae = mean_absolute_error(test_y, test_pred)\n"
   ]
  },
  {
   "cell_type": "code",
   "execution_count": 40,
   "id": "d94ced99",
   "metadata": {},
   "outputs": [
    {
     "name": "stdout",
     "output_type": "stream",
     "text": [
      "Training Score: 1874.7612068557428 | Testing Score: 4482.165253291535\n"
     ]
    }
   ],
   "source": [
    "print(f\"Training Score: {train_rmse} | Testing Score: {test_rmse}\")"
   ]
  },
  {
   "cell_type": "code",
   "execution_count": 41,
   "id": "5e555824",
   "metadata": {},
   "outputs": [
    {
     "name": "stdout",
     "output_type": "stream",
     "text": [
      "Training Score: 1023.776666230096 | Testing Score: 2518.507381507813\n"
     ]
    }
   ],
   "source": [
    "print(f\"Training Score: {train_mae} | Testing Score: {test_mae}\")"
   ]
  },
  {
   "cell_type": "markdown",
   "id": "ca2395f8",
   "metadata": {},
   "source": [
    "Although slight, some improvement was made. Further fine tunning could make the score better."
   ]
  }
 ],
 "metadata": {
  "kernelspec": {
   "display_name": "Python 3 (ipykernel)",
   "language": "python",
   "name": "python3"
  },
  "language_info": {
   "codemirror_mode": {
    "name": "ipython",
    "version": 3
   },
   "file_extension": ".py",
   "mimetype": "text/x-python",
   "name": "python",
   "nbconvert_exporter": "python",
   "pygments_lexer": "ipython3",
   "version": "3.8.10"
  }
 },
 "nbformat": 4,
 "nbformat_minor": 5
}
